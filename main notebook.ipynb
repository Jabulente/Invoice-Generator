{
 "cells": [
  {
   "cell_type": "markdown",
   "id": "b54a9369-f24d-4410-9d16-ef70a44a086b",
   "metadata": {},
   "source": [
    "<h2 style=' color: crimson;font-family: Colonna MT; font-weight: 600; font-size: 35px; text-align: Center'>Automatic Invoice Generator</h2>\n",
    "\n",
    "---"
   ]
  },
  {
   "cell_type": "markdown",
   "id": "9a09d05e-2da0-4fb6-b0f8-fb037c6d3dc7",
   "metadata": {},
   "source": [
    "<h2 style='font-family: Colonna MT; font-weight: 600; font-size: 20px; text-align: left'>1.0. Import Required Libraries and Modules</h2>"
   ]
  },
  {
   "cell_type": "code",
   "execution_count": 7,
   "id": "e0d8a4f9-cc0b-42bf-866e-0cd99d0b6fb4",
   "metadata": {},
   "outputs": [],
   "source": [
    "from Invoice.Invoicepdf import PDFInvoice\n",
    "from Utilis.logger import log_success\n",
    "from datetime import datetime\n",
    "import pandas as pd\n",
    "import os"
   ]
  },
  {
   "cell_type": "markdown",
   "id": "fb1542df-a458-46fc-b84d-a653b4289758",
   "metadata": {},
   "source": [
    "<h2 style='font-family: Colonna MT; font-weight: 600; font-size: 20px; text-align: left'>2.0. Importing and Inspecting Dataset</h2>"
   ]
  },
  {
   "cell_type": "code",
   "execution_count": 8,
   "id": "78870113-b747-4d23-a671-471994f8bee6",
   "metadata": {},
   "outputs": [
    {
     "data": {
      "text/html": [
       "<div>\n",
       "<style scoped>\n",
       "    .dataframe tbody tr th:only-of-type {\n",
       "        vertical-align: middle;\n",
       "    }\n",
       "\n",
       "    .dataframe tbody tr th {\n",
       "        vertical-align: top;\n",
       "    }\n",
       "\n",
       "    .dataframe thead th {\n",
       "        text-align: right;\n",
       "    }\n",
       "</style>\n",
       "<table border=\"1\" class=\"dataframe\">\n",
       "  <thead>\n",
       "    <tr style=\"text-align: right;\">\n",
       "      <th></th>\n",
       "      <th>cart_id</th>\n",
       "      <th>customer_name</th>\n",
       "      <th>customer_email</th>\n",
       "      <th>customer_phone</th>\n",
       "      <th>customer_address</th>\n",
       "      <th>product_description</th>\n",
       "      <th>quantity</th>\n",
       "      <th>unit_price</th>\n",
       "      <th>tax_rate</th>\n",
       "      <th>discount</th>\n",
       "    </tr>\n",
       "  </thead>\n",
       "  <tbody>\n",
       "    <tr>\n",
       "      <th>0</th>\n",
       "      <td>INV-935373</td>\n",
       "      <td>Charles Choi</td>\n",
       "      <td>charleschoi@gmail.com</td>\n",
       "      <td>001-753-787-4326x515</td>\n",
       "      <td>87652 Wiley Manor, Christopherland, WV 50004</td>\n",
       "      <td>Maintenance Plan</td>\n",
       "      <td>1</td>\n",
       "      <td>300</td>\n",
       "      <td>0.1</td>\n",
       "      <td>1.09</td>\n",
       "    </tr>\n",
       "    <tr>\n",
       "      <th>1</th>\n",
       "      <td>INV-935373</td>\n",
       "      <td>Charles Choi</td>\n",
       "      <td>charleschoi@gmail.com</td>\n",
       "      <td>001-753-787-4326x515</td>\n",
       "      <td>87652 Wiley Manor, Christopherland, WV 50004</td>\n",
       "      <td>IT Infrastructure Setup</td>\n",
       "      <td>2</td>\n",
       "      <td>2000</td>\n",
       "      <td>0.1</td>\n",
       "      <td>4.89</td>\n",
       "    </tr>\n",
       "    <tr>\n",
       "      <th>2</th>\n",
       "      <td>INV-935373</td>\n",
       "      <td>Charles Choi</td>\n",
       "      <td>charleschoi@gmail.com</td>\n",
       "      <td>001-753-787-4326x515</td>\n",
       "      <td>87652 Wiley Manor, Christopherland, WV 50004</td>\n",
       "      <td>IT Infrastructure Setup</td>\n",
       "      <td>3</td>\n",
       "      <td>2000</td>\n",
       "      <td>0.1</td>\n",
       "      <td>10.72</td>\n",
       "    </tr>\n",
       "    <tr>\n",
       "      <th>3</th>\n",
       "      <td>INV-935373</td>\n",
       "      <td>Charles Choi</td>\n",
       "      <td>charleschoi@gmail.com</td>\n",
       "      <td>001-753-787-4326x515</td>\n",
       "      <td>87652 Wiley Manor, Christopherland, WV 50004</td>\n",
       "      <td>SSL Certificate</td>\n",
       "      <td>1</td>\n",
       "      <td>75</td>\n",
       "      <td>0.1</td>\n",
       "      <td>5.43</td>\n",
       "    </tr>\n",
       "    <tr>\n",
       "      <th>4</th>\n",
       "      <td>INV-811450</td>\n",
       "      <td>Jeffrey Burke</td>\n",
       "      <td>jeffreyburke@gmail.com</td>\n",
       "      <td>665-779-2985x6110</td>\n",
       "      <td>57268 Kelsey Mountains, South Davidburgh, WV 9...</td>\n",
       "      <td>IT Infrastructure Setup</td>\n",
       "      <td>3</td>\n",
       "      <td>2000</td>\n",
       "      <td>0.1</td>\n",
       "      <td>9.72</td>\n",
       "    </tr>\n",
       "  </tbody>\n",
       "</table>\n",
       "</div>"
      ],
      "text/plain": [
       "      cart_id  customer_name          customer_email        customer_phone  \\\n",
       "0  INV-935373   Charles Choi   charleschoi@gmail.com  001-753-787-4326x515   \n",
       "1  INV-935373   Charles Choi   charleschoi@gmail.com  001-753-787-4326x515   \n",
       "2  INV-935373   Charles Choi   charleschoi@gmail.com  001-753-787-4326x515   \n",
       "3  INV-935373   Charles Choi   charleschoi@gmail.com  001-753-787-4326x515   \n",
       "4  INV-811450  Jeffrey Burke  jeffreyburke@gmail.com     665-779-2985x6110   \n",
       "\n",
       "                                    customer_address      product_description  \\\n",
       "0       87652 Wiley Manor, Christopherland, WV 50004         Maintenance Plan   \n",
       "1       87652 Wiley Manor, Christopherland, WV 50004  IT Infrastructure Setup   \n",
       "2       87652 Wiley Manor, Christopherland, WV 50004  IT Infrastructure Setup   \n",
       "3       87652 Wiley Manor, Christopherland, WV 50004          SSL Certificate   \n",
       "4  57268 Kelsey Mountains, South Davidburgh, WV 9...  IT Infrastructure Setup   \n",
       "\n",
       "   quantity  unit_price  tax_rate  discount  \n",
       "0         1         300       0.1      1.09  \n",
       "1         2        2000       0.1      4.89  \n",
       "2         3        2000       0.1     10.72  \n",
       "3         1          75       0.1      5.43  \n",
       "4         3        2000       0.1      9.72  "
      ]
     },
     "metadata": {},
     "output_type": "display_data"
    }
   ],
   "source": [
    "df = pd.read_csv(\"Datasets/orders.csv\")\n",
    "display(df.head())"
   ]
  },
  {
   "cell_type": "code",
   "execution_count": 9,
   "id": "d2d47f37-72b9-46b8-a757-bce4cfcf8898",
   "metadata": {},
   "outputs": [
    {
     "name": "stdout",
     "output_type": "stream",
     "text": [
      "Dataset Contain 58 rows and 10 columns\n"
     ]
    }
   ],
   "source": [
    "rows, cols = df.shape\n",
    "print(f\"Dataset Contain {rows} rows and {cols} columns\")"
   ]
  },
  {
   "cell_type": "code",
   "execution_count": 10,
   "id": "f090c09b-1bb5-44e3-9d86-ddb8ce744bf5",
   "metadata": {},
   "outputs": [
    {
     "data": {
      "text/plain": [
       "Index(['cart_id', 'customer_name', 'customer_email', 'customer_phone',\n",
       "       'customer_address', 'product_description', 'quantity', 'unit_price',\n",
       "       'tax_rate', 'discount'],\n",
       "      dtype='object')"
      ]
     },
     "execution_count": 10,
     "metadata": {},
     "output_type": "execute_result"
    }
   ],
   "source": [
    "df.columns"
   ]
  },
  {
   "cell_type": "code",
   "execution_count": 11,
   "id": "8d51296f-52bf-49a1-89eb-cb8eea794da8",
   "metadata": {},
   "outputs": [
    {
     "name": "stdout",
     "output_type": "stream",
     "text": [
      "<class 'pandas.core.frame.DataFrame'>\n",
      "RangeIndex: 58 entries, 0 to 57\n",
      "Data columns (total 10 columns):\n",
      " #   Column               Non-Null Count  Dtype  \n",
      "---  ------               --------------  -----  \n",
      " 0   cart_id              58 non-null     object \n",
      " 1   customer_name        58 non-null     object \n",
      " 2   customer_email       58 non-null     object \n",
      " 3   customer_phone       58 non-null     object \n",
      " 4   customer_address     58 non-null     object \n",
      " 5   product_description  58 non-null     object \n",
      " 6   quantity             58 non-null     int64  \n",
      " 7   unit_price           58 non-null     int64  \n",
      " 8   tax_rate             58 non-null     float64\n",
      " 9   discount             58 non-null     float64\n",
      "dtypes: float64(2), int64(2), object(6)\n",
      "memory usage: 4.7+ KB\n"
     ]
    }
   ],
   "source": [
    "df.info()"
   ]
  },
  {
   "cell_type": "markdown",
   "id": "b48ba1c7-77e4-4959-988b-7e4d0769a1ec",
   "metadata": {},
   "source": [
    "<h2 style='font-family: Colonna MT; font-weight: 600; font-size: 20px; text-align: left'>3.0. Generating Invoices and Save as Pdf Formart</h2>"
   ]
  },
  {
   "cell_type": "code",
   "execution_count": 12,
   "id": "ca29e015-8b88-4c3d-bdac-978cb047c3f7",
   "metadata": {},
   "outputs": [
    {
     "name": "stdout",
     "output_type": "stream",
     "text": [
      "2025-05-09 19:18:15: INV-188170 : --------------------------------------------------- Invoice Generated Successfully  ✔✔✔✔\n",
      "2025-05-09 19:18:16: INV-204511 : --------------------------------------------------- Invoice Generated Successfully  ✔✔✔✔\n",
      "2025-05-09 19:18:17: INV-219191 : --------------------------------------------------- Invoice Generated Successfully  ✔✔✔✔\n",
      "2025-05-09 19:18:17: INV-312615 : --------------------------------------------------- Invoice Generated Successfully  ✔✔✔✔\n",
      "2025-05-09 19:18:17: INV-375902 : --------------------------------------------------- Invoice Generated Successfully  ✔✔✔✔\n",
      "2025-05-09 19:18:17: INV-389482 : --------------------------------------------------- Invoice Generated Successfully  ✔✔✔✔\n",
      "2025-05-09 19:18:17: INV-667646 : --------------------------------------------------- Invoice Generated Successfully  ✔✔✔✔\n",
      "2025-05-09 19:18:18: INV-811450 : --------------------------------------------------- Invoice Generated Successfully  ✔✔✔✔\n",
      "2025-05-09 19:18:18: INV-935373 : --------------------------------------------------- Invoice Generated Successfully  ✔✔✔✔\n",
      "2025-05-09 19:18:18: INV-944649 : --------------------------------------------------- Invoice Generated Successfully  ✔✔✔✔\n"
     ]
    }
   ],
   "source": [
    "# Group data by cart_id  as Its Unique Id (each cart_id = one invoice)\n",
    "for cart_id, group in df.groupby(\"cart_id\"):\n",
    "    customer = group.iloc[0]\n",
    "\n",
    "    # Prepare recipient (customer) information\n",
    "    to_info = [\n",
    "        customer[\"customer_name\"],\n",
    "        f\"Phone: {customer['customer_phone']}\",\n",
    "        f\"Email: {customer['customer_email']}\",\n",
    "        f\"Addres: {customer['customer_address']}\"\n",
    "    ]\n",
    "\n",
    "    # Static sender (company) information\n",
    "    from_info = [\n",
    "        \"Jane Doe\",\n",
    "        \"Managing Director, Company Ltd\",\n",
    "        \"Phone: +123 4567 8910\",\n",
    "        \"Email: janedoe@gmail.com\"\n",
    "    ]\n",
    "\n",
    "    # Prepare list of purchased items\n",
    "    items = []\n",
    "    for _, row in group.iterrows():\n",
    "        items.append({\n",
    "            \"description\": row[\"product_description\"],\n",
    "            \"unit_price\": float(row[\"unit_price\"]),\n",
    "            \"quantity\": int(row[\"quantity\"])\n",
    "        })\n",
    "\n",
    "    # Get tax rate and total discount\n",
    "    tax_rate = float(customer[\"tax_rate\"])\n",
    "    discount = float(group[\"discount\"].sum())\n",
    "\n",
    "    # Create PDF invoice\n",
    "    pdf = PDFInvoice(\n",
    "        company_name=\"Mizer Companition\",\n",
    "        tagline=\"Creative Business Idea\",\n",
    "        invoice_number=cart_id,\n",
    "        invoice_date=datetime.today().strftime('%B %d, %Y'),\n",
    "        terms=\"Payment due in 30 days.\\nNo refunds after 7 days.\",\n",
    "        payment_info=\"Account: Mizer Inc\\nBank: GlobalBank\\nIBAN: GB00 1234 5678 9012\"\n",
    "    )\n",
    "\n",
    "    # Build the invoice layout\n",
    "    pdf.set_margins()\n",
    "    pdf.add_page()\n",
    "    pdf.add_invoice_info(to_info=to_info, from_info=from_info)\n",
    "    subtotal = pdf.add_table(items)\n",
    "    pdf.add_summary_section(subtotal=subtotal, tax_rate=tax_rate, discount=discount)\n",
    "\n",
    "    # Save the invoice as PDF\n",
    "    os.makedirs(\"Outputs\", exist_ok=True)\n",
    "    pdf.output(f\"Outputs/{cart_id}.pdf\")\n",
    "\n",
    "    # Log success\n",
    "    log_success(cart_id)"
   ]
  },
  {
   "cell_type": "markdown",
   "id": "0a2b59e6-6c09-4bf6-83ae-9c77e9503de9",
   "metadata": {},
   "source": [
    "---\n",
    "\n",
    "This analysis was performed by **Jabulente**, a passionate and dedicated data scientist with a strong commitment to using data to drive meaningful insights and solutions. For inquiries, collaborations, or further discussions, please feel free to reach out via.  \n",
    "\n",
    "    \n",
    "<div align=\"center\">  \n",
    "    \n",
    "[![GitHub](https://img.shields.io/badge/GitHub-Jabulente-black?logo=github)](https://github.com/Jabulente)  [![LinkedIn](https://img.shields.io/badge/LinkedIn-Jabulente-blue?logo=linkedin)](https://linkedin.com/in/jabulente-208019349)  [![X (Twitter)](https://img.shields.io/badge/X-@Jabulente-black?logo=x)](https://x.com/Jabulente)  [![Instagram](https://img.shields.io/badge/Instagram-@Jabulente-purple?logo=instagram)](https://instagram.com/Jabulente)  [![Threads](https://img.shields.io/badge/Threads-@Jabulente-black?logo=threads)](https://threads.net/@Jabulente)  [![TikTok](https://img.shields.io/badge/TikTok-@Jabulente-teal?logo=tiktok)](https://tiktok.com/@Jabulente)  [![Email](https://img.shields.io/badge/Email-jabulente@hotmail.com-red?logo=gmail)](mailto:Jabulente@hotmail.com)  \n",
    "\n",
    "</div>"
   ]
  },
  {
   "cell_type": "markdown",
   "id": "7ed19397-952a-4647-a4bd-1b0e2cc4e055",
   "metadata": {},
   "source": [
    "<h1 style='font-size: 55px; color: Tomato; font-family: Colonna MT; font-weight: 700; text-align: center'>THE END</h1>"
   ]
  }
 ],
 "metadata": {
  "kernelspec": {
   "display_name": "Python 3 (ipykernel)",
   "language": "python",
   "name": "python3"
  },
  "language_info": {
   "codemirror_mode": {
    "name": "ipython",
    "version": 3
   },
   "file_extension": ".py",
   "mimetype": "text/x-python",
   "name": "python",
   "nbconvert_exporter": "python",
   "pygments_lexer": "ipython3",
   "version": "3.11.8"
  }
 },
 "nbformat": 4,
 "nbformat_minor": 5
}
