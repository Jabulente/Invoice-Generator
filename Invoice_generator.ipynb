{
 "cells": [
  {
   "cell_type": "markdown",
   "id": "d1d9a79f-4f3f-4e85-87d3-9e5cb4c9e34d",
   "metadata": {},
   "source": [
    "Simple Invoice "
   ]
  },
  {
   "cell_type": "code",
   "execution_count": 10,
   "id": "e13ccd05-d396-47a2-be95-55655b749e29",
   "metadata": {},
   "outputs": [],
   "source": [
    "from Invoice.Invoicepdf import PDFInvoice\n",
    "\n",
    "# Sample invoice items\n",
    "invoice_items = [\n",
    "    {\"description\": \"Website Design\", \"unit_price\": 500, \"quantity\": 1},\n",
    "    {\"description\": \"SEO Services\", \"unit_price\": 300, \"quantity\": 2},\n",
    "    {\"description\": \"Content Writing\", \"unit_price\": 150, \"quantity\": 3},\n",
    "    {\"description\": \"Logo Design\", \"unit_price\": 250, \"quantity\": 1},\n",
    "    {\"description\": \"Hosting (1 Year)\", \"unit_price\": 120, \"quantity\": 1},\n",
    "    {\"description\": \"Social Media Management\", \"unit_price\": 200, \"quantity\": 2},\n",
    "    {\"description\": \"Email Marketing Campaign\", \"unit_price\": 180, \"quantity\": 1},\n",
    "    {\"description\": \"Maintenance & Support\", \"unit_price\": 100, \"quantity\": 4},\n",
    "]\n",
    "\n",
    "\n",
    "# Generate PDF\n",
    "pdf = PDFInvoice()\n",
    "pdf.set_margins(left=15, top=15, right=15)\n",
    "pdf.add_page()\n",
    "pdf.add_invoice_info(to_name=\"Client Name\", from_name=\"Your Business\")\n",
    "subtotal = pdf.add_table(invoice_items)\n",
    "pdf.add_summary_section(subtotal=subtotal, tax_rate=0.10, discount=50.00)\n",
    "pdf.output(\"Outputs/Invoice.pdf\")"
   ]
  },
  {
   "cell_type": "markdown",
   "id": "8f8bdc81-e72a-4a22-9017-c3c3bb04c52f",
   "metadata": {},
   "source": [
    "## Generating Multiple Invoices\n",
    "Loop through a list of clients:"
   ]
  },
  {
   "cell_type": "code",
   "execution_count": 14,
   "id": "7b06fa75-b1c6-45db-8a63-ed20ee7e900e",
   "metadata": {},
   "outputs": [],
   "source": [
    "clients = [\"Client A\", \"Client B\", \"Client C\"]\n",
    "\n",
    "for client in clients:\n",
    "    pdf = PDFInvoice()\n",
    "    pdf.add_page()\n",
    "    pdf.add_invoice_info(to_name=client, from_name=\"Your Business\")\n",
    "    subtotal = pdf.add_table(invoice_items)\n",
    "    pdf.add_summary_section(subtotal=subtotal)\n",
    "    pdf.output(f\"Outputs/Invoices/Invoice_{client}.pdf\")"
   ]
  },
  {
   "cell_type": "code",
   "execution_count": 12,
   "id": "6311b1be-d98a-4ac8-a1ea-66529a2535ce",
   "metadata": {},
   "outputs": [],
   "source": []
  },
  {
   "cell_type": "code",
   "execution_count": null,
   "id": "d26dfb22-24b4-488f-bad4-22252552c414",
   "metadata": {},
   "outputs": [],
   "source": []
  }
 ],
 "metadata": {
  "kernelspec": {
   "display_name": "Python 3 (ipykernel)",
   "language": "python",
   "name": "python3"
  },
  "language_info": {
   "codemirror_mode": {
    "name": "ipython",
    "version": 3
   },
   "file_extension": ".py",
   "mimetype": "text/x-python",
   "name": "python",
   "nbconvert_exporter": "python",
   "pygments_lexer": "ipython3",
   "version": "3.11.8"
  }
 },
 "nbformat": 4,
 "nbformat_minor": 5
}
