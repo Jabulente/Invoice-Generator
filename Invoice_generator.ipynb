{
 "cells": [
  {
   "cell_type": "markdown",
   "id": "d1d9a79f-4f3f-4e85-87d3-9e5cb4c9e34d",
   "metadata": {},
   "source": [
    "Simple Invoice "
   ]
  },
  {
   "cell_type": "code",
   "execution_count": 10,
   "id": "e13ccd05-d396-47a2-be95-55655b749e29",
   "metadata": {},
   "outputs": [],
   "source": [
    "from Invoice.Invoicepdf import PDFInvoice\n",
    "\n",
    "# Sample invoice items\n",
    "invoice_items = [\n",
    "    {\"description\": \"Website Design\", \"unit_price\": 500, \"quantity\": 1},\n",
    "    {\"description\": \"SEO Services\", \"unit_price\": 300, \"quantity\": 2},\n",
    "    {\"description\": \"Content Writing\", \"unit_price\": 150, \"quantity\": 3},\n",
    "    {\"description\": \"Logo Design\", \"unit_price\": 250, \"quantity\": 1},\n",
    "    {\"description\": \"Hosting (1 Year)\", \"unit_price\": 120, \"quantity\": 1},\n",
    "    {\"description\": \"Social Media Management\", \"unit_price\": 200, \"quantity\": 2},\n",
    "    {\"description\": \"Email Marketing Campaign\", \"unit_price\": 180, \"quantity\": 1},\n",
    "    {\"description\": \"Maintenance & Support\", \"unit_price\": 100, \"quantity\": 4},\n",
    "]\n",
    "\n",
    "\n",
    "# Generate PDF\n",
    "pdf = PDFInvoice()\n",
    "pdf.set_margins(left=15, top=15, right=15)\n",
    "pdf.add_page()\n",
    "pdf.add_invoice_info(to_name=\"Client Name\", from_name=\"Your Business\")\n",
    "subtotal = pdf.add_table(invoice_items)\n",
    "pdf.add_summary_section(subtotal=subtotal, tax_rate=0.10, discount=50.00)\n",
    "pdf.output(\"Outputs/Invoice.pdf\")"
   ]
  },
  {
   "cell_type": "markdown",
   "id": "8f8bdc81-e72a-4a22-9017-c3c3bb04c52f",
   "metadata": {},
   "source": [
    "## Generating Multiple Invoices\n",
    "Loop through a list of clients:"
   ]
  },
  {
   "cell_type": "code",
   "execution_count": 13,
   "id": "7b06fa75-b1c6-45db-8a63-ed20ee7e900e",
   "metadata": {},
   "outputs": [
    {
     "ename": "FileNotFoundError",
     "evalue": "[Errno 2] No such file or directory: 'Outputs\\\\Invoice\\\\Invoice_Client A.pdf'",
     "output_type": "error",
     "traceback": [
      "\u001b[1;31m---------------------------------------------------------------------------\u001b[0m",
      "\u001b[1;31mFileNotFoundError\u001b[0m                         Traceback (most recent call last)",
      "Cell \u001b[1;32mIn[13], line 9\u001b[0m\n\u001b[0;32m      7\u001b[0m subtotal \u001b[38;5;241m=\u001b[39m pdf\u001b[38;5;241m.\u001b[39madd_table(invoice_items)\n\u001b[0;32m      8\u001b[0m pdf\u001b[38;5;241m.\u001b[39madd_summary_section(subtotal\u001b[38;5;241m=\u001b[39msubtotal)\n\u001b[1;32m----> 9\u001b[0m \u001b[43mpdf\u001b[49m\u001b[38;5;241;43m.\u001b[39;49m\u001b[43moutput\u001b[49m\u001b[43m(\u001b[49m\u001b[38;5;124;43mf\u001b[39;49m\u001b[38;5;124;43m\"\u001b[39;49m\u001b[38;5;124;43mOutputs/Invoice/Invoice_\u001b[39;49m\u001b[38;5;132;43;01m{\u001b[39;49;00m\u001b[43mclient\u001b[49m\u001b[38;5;132;43;01m}\u001b[39;49;00m\u001b[38;5;124;43m.pdf\u001b[39;49m\u001b[38;5;124;43m\"\u001b[39;49m\u001b[43m)\u001b[49m\n",
      "File \u001b[1;32m~\\AppData\\Local\\Programs\\Python\\Python311\\Lib\\site-packages\\fpdf\\fpdf.py:5261\u001b[0m, in \u001b[0;36mFPDF.output\u001b[1;34m(self, name, dest, linearize, output_producer_class)\u001b[0m\n\u001b[0;32m   5259\u001b[0m     name\u001b[38;5;241m.\u001b[39mwrite_bytes(\u001b[38;5;28mself\u001b[39m\u001b[38;5;241m.\u001b[39mbuffer)\n\u001b[0;32m   5260\u001b[0m \u001b[38;5;28;01melif\u001b[39;00m \u001b[38;5;28misinstance\u001b[39m(name, \u001b[38;5;28mstr\u001b[39m):\n\u001b[1;32m-> 5261\u001b[0m     \u001b[43mPath\u001b[49m\u001b[43m(\u001b[49m\u001b[43mname\u001b[49m\u001b[43m)\u001b[49m\u001b[38;5;241;43m.\u001b[39;49m\u001b[43mwrite_bytes\u001b[49m\u001b[43m(\u001b[49m\u001b[38;5;28;43mself\u001b[39;49m\u001b[38;5;241;43m.\u001b[39;49m\u001b[43mbuffer\u001b[49m\u001b[43m)\u001b[49m\n\u001b[0;32m   5262\u001b[0m \u001b[38;5;28;01melse\u001b[39;00m:\n\u001b[0;32m   5263\u001b[0m     name\u001b[38;5;241m.\u001b[39mwrite(\u001b[38;5;28mself\u001b[39m\u001b[38;5;241m.\u001b[39mbuffer)\n",
      "File \u001b[1;32m~\\AppData\\Local\\Programs\\Python\\Python311\\Lib\\pathlib.py:1067\u001b[0m, in \u001b[0;36mPath.write_bytes\u001b[1;34m(self, data)\u001b[0m\n\u001b[0;32m   1065\u001b[0m \u001b[38;5;66;03m# type-check for the buffer interface before truncating the file\u001b[39;00m\n\u001b[0;32m   1066\u001b[0m view \u001b[38;5;241m=\u001b[39m \u001b[38;5;28mmemoryview\u001b[39m(data)\n\u001b[1;32m-> 1067\u001b[0m \u001b[38;5;28;01mwith\u001b[39;00m \u001b[38;5;28;43mself\u001b[39;49m\u001b[38;5;241;43m.\u001b[39;49m\u001b[43mopen\u001b[49m\u001b[43m(\u001b[49m\u001b[43mmode\u001b[49m\u001b[38;5;241;43m=\u001b[39;49m\u001b[38;5;124;43m'\u001b[39;49m\u001b[38;5;124;43mwb\u001b[39;49m\u001b[38;5;124;43m'\u001b[39;49m\u001b[43m)\u001b[49m \u001b[38;5;28;01mas\u001b[39;00m f:\n\u001b[0;32m   1068\u001b[0m     \u001b[38;5;28;01mreturn\u001b[39;00m f\u001b[38;5;241m.\u001b[39mwrite(view)\n",
      "File \u001b[1;32m~\\AppData\\Local\\Programs\\Python\\Python311\\Lib\\pathlib.py:1044\u001b[0m, in \u001b[0;36mPath.open\u001b[1;34m(self, mode, buffering, encoding, errors, newline)\u001b[0m\n\u001b[0;32m   1042\u001b[0m \u001b[38;5;28;01mif\u001b[39;00m \u001b[38;5;124m\"\u001b[39m\u001b[38;5;124mb\u001b[39m\u001b[38;5;124m\"\u001b[39m \u001b[38;5;129;01mnot\u001b[39;00m \u001b[38;5;129;01min\u001b[39;00m mode:\n\u001b[0;32m   1043\u001b[0m     encoding \u001b[38;5;241m=\u001b[39m io\u001b[38;5;241m.\u001b[39mtext_encoding(encoding)\n\u001b[1;32m-> 1044\u001b[0m \u001b[38;5;28;01mreturn\u001b[39;00m \u001b[43mio\u001b[49m\u001b[38;5;241;43m.\u001b[39;49m\u001b[43mopen\u001b[49m\u001b[43m(\u001b[49m\u001b[38;5;28;43mself\u001b[39;49m\u001b[43m,\u001b[49m\u001b[43m \u001b[49m\u001b[43mmode\u001b[49m\u001b[43m,\u001b[49m\u001b[43m \u001b[49m\u001b[43mbuffering\u001b[49m\u001b[43m,\u001b[49m\u001b[43m \u001b[49m\u001b[43mencoding\u001b[49m\u001b[43m,\u001b[49m\u001b[43m \u001b[49m\u001b[43merrors\u001b[49m\u001b[43m,\u001b[49m\u001b[43m \u001b[49m\u001b[43mnewline\u001b[49m\u001b[43m)\u001b[49m\n",
      "\u001b[1;31mFileNotFoundError\u001b[0m: [Errno 2] No such file or directory: 'Outputs\\\\Invoice\\\\Invoice_Client A.pdf'"
     ]
    }
   ],
   "source": [
    "clients = [\"Client A\", \"Client B\", \"Client C\"]\n",
    "\n",
    "for client in clients:\n",
    "    pdf = PDFInvoice()\n",
    "    pdf.add_page()\n",
    "    pdf.add_invoice_info(to_name=client, from_name=\"Your Business\")\n",
    "    subtotal = pdf.add_table(invoice_items)\n",
    "    pdf.add_summary_section(subtotal=subtotal)\n",
    "    pdf.output(f\"Outputs/Invoice/Invoice_{client}.pdf\")"
   ]
  },
  {
   "cell_type": "code",
   "execution_count": 12,
   "id": "6311b1be-d98a-4ac8-a1ea-66529a2535ce",
   "metadata": {},
   "outputs": [],
   "source": []
  },
  {
   "cell_type": "code",
   "execution_count": null,
   "id": "d26dfb22-24b4-488f-bad4-22252552c414",
   "metadata": {},
   "outputs": [],
   "source": []
  }
 ],
 "metadata": {
  "kernelspec": {
   "display_name": "Python 3 (ipykernel)",
   "language": "python",
   "name": "python3"
  },
  "language_info": {
   "codemirror_mode": {
    "name": "ipython",
    "version": 3
   },
   "file_extension": ".py",
   "mimetype": "text/x-python",
   "name": "python",
   "nbconvert_exporter": "python",
   "pygments_lexer": "ipython3",
   "version": "3.11.8"
  }
 },
 "nbformat": 4,
 "nbformat_minor": 5
}
