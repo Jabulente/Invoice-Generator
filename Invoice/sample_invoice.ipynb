{
 "cells": [
  {
   "cell_type": "code",
   "execution_count": 3,
   "id": "c3ee17b6-bf74-4276-a319-d39db2c1c97c",
   "metadata": {},
   "outputs": [
    {
     "name": "stdout",
     "output_type": "stream",
     "text": [
      "\u001b[96m2025-08-25 00:30:04\u001b[0m : \u001b[94moutputs\\Vertex.pdf\u001b[0m ---------------------------------------------- \u001b[92m\u001b[1m Invoice Generated Successfully ✔\u001b[0m\n"
     ]
    }
   ],
   "source": [
    "import os\n",
    "import random\n",
    "from faker import Faker\n",
    "from datetime import datetime\n",
    "from pdf_invoice import PDFInvoice\n",
    "from utils import save_to_csv, log_success\n",
    "\n",
    "fake = Faker()\n",
    "\n",
    "# Company info\n",
    "from_info = [\n",
    "    \"Vertex\",\n",
    "    \"support@vertexstore.com\",\n",
    "    \"+255 123 456 789\",\n",
    "    \"123 Commerce Street, Arusha, Tanzania\"\n",
    "]\n",
    "\n",
    "# Products and prices\n",
    "PRODUCTS = [\n",
    "    \"Wireless Mouse\", \"USB Keyboard\", \"HDMI Cable\", \"Laptop Stand\",\n",
    "    \"Bluetooth Headphones\", \"Smartphone Case\", \"Portable Charger\",\n",
    "    \"LED Desk Lamp\", \"External Hard Drive\", \"Webcam\"\n",
    "]\n",
    "\n",
    "UNIT_PRICES = {\n",
    "    \"Wireless Mouse\": 25,\n",
    "    \"USB Keyboard\": 40,\n",
    "    \"HDMI Cable\": 15,\n",
    "    \"Laptop Stand\": 30,\n",
    "    \"Bluetooth Headphones\": 80,\n",
    "    \"Smartphone Case\": 12,\n",
    "    \"Portable Charger\": 35,\n",
    "    \"LED Desk Lamp\": 45,\n",
    "    \"External Hard Drive\": 120,\n",
    "    \"Webcam\": 70\n",
    "}\n",
    "\n",
    "DEFAULT_TAX_RATE = 0.1  # 10% tax\n",
    "\n",
    "# Generate random customer info\n",
    "def generate_customer_info():\n",
    "    name = fake.name()\n",
    "    return [\n",
    "        name,\n",
    "        f\"{name.replace(' ', '').lower()}@gmail.com\",\n",
    "        fake.phone_number(),\n",
    "        fake.address().replace(\"\\n\", \", \")\n",
    "    ]\n",
    "\n",
    "# Generate items covering nearly all products\n",
    "def generate_all_product_items():\n",
    "    items = []\n",
    "    for product in PRODUCTS:\n",
    "        quantity = random.randint(1, 3)\n",
    "        unit_price = UNIT_PRICES[product]\n",
    "        items.append({\n",
    "            \"description\": product,\n",
    "            \"quantity\": quantity,\n",
    "            \"unit_price\": unit_price,\n",
    "            \"tax_rate\": DEFAULT_TAX_RATE,\n",
    "            \"discount\": round(random.uniform(0, 10), 2)\n",
    "        })\n",
    "    return items\n",
    "\n",
    "def generate_demo_invoice(output_dir=\"outputs\"):\n",
    "    os.makedirs(output_dir, exist_ok=True)\n",
    "    \n",
    "    invoice_number = f\"INV-{datetime.now().strftime('%Y%m%d')}-DEMO\"\n",
    "    pdf = PDFInvoice(invoice_number=invoice_number)\n",
    "    pdf.add_page()\n",
    "    \n",
    "    to_info = generate_customer_info()\n",
    "    pdf.add_invoice_info(to_info, from_info)\n",
    "    \n",
    "    items = generate_all_product_items()\n",
    "    subtotal = pdf.add_table(items)\n",
    "    pdf.add_summary_section(subtotal)\n",
    "    \n",
    "    pdf_path = os.path.join(output_dir, f\"Vertex.pdf\")\n",
    "    pdf.output(pdf_path)\n",
    "    log_success(pdf_path)\n",
    "    \n",
    "if __name__ == \"__main__\":\n",
    "    generate_demo_invoice()"
   ]
  },
  {
   "cell_type": "code",
   "execution_count": 4,
   "id": "0243eb97-61cd-489a-9246-d23596d36b3e",
   "metadata": {},
   "outputs": [
    {
     "name": "stderr",
     "output_type": "stream",
     "text": [
      "2025-08-25 00:39:02,253 - pdf_to_image_converter.utils - INFO - Converting PDF with 1 pages: Vertex.pdf\n",
      "2025-08-25 00:39:02,451 - pdf_to_image_converter.utils - INFO - Successfully converted 1 pages\n",
      "2025-08-25 00:39:02,455 - pdf_to_image_converter.utils - INFO - Converting PDF with 1 pages: Vertex.pdf\n",
      "2025-08-25 00:39:02,739 - pdf_to_image_converter.utils - INFO - Successfully converted 1 pages\n"
     ]
    }
   ],
   "source": [
    "from pdf_to_image_converter import PDFToImageConverter, pdf_to_images_fitz\n",
    "\n",
    "# Use the class-based approach\n",
    "converter = PDFToImageConverter()\n",
    "result = converter.convert(\"./outputs/Vertex.pdf\", \"../outputs\")\n",
    "\n",
    "# Or use the convenience function\n",
    "image_paths = pdf_to_images_fitz(\"./outputs/Vertex.pdf\", \"../outputs\", dpi=300)"
   ]
  }
 ],
 "metadata": {
  "kernelspec": {
   "display_name": "Python 3 (ipykernel)",
   "language": "python",
   "name": "python3"
  },
  "language_info": {
   "codemirror_mode": {
    "name": "ipython",
    "version": 3
   },
   "file_extension": ".py",
   "mimetype": "text/x-python",
   "name": "python",
   "nbconvert_exporter": "python",
   "pygments_lexer": "ipython3",
   "version": "3.13.5"
  }
 },
 "nbformat": 4,
 "nbformat_minor": 5
}
